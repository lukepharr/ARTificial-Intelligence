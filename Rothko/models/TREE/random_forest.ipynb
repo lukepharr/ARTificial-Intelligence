{
 "cells": [
  {
   "cell_type": "markdown",
   "metadata": {},
   "source": [
    "# Random Forest Classifier for Rothko art work"
   ]
  },
  {
   "cell_type": "code",
   "execution_count": 39,
   "metadata": {
    "collapsed": true
   },
   "outputs": [],
   "source": [
    "from sklearn.ensemble import RandomForestClassifier\n",
    "from sklearn.model_selection import train_test_split\n",
    "\n",
    "import pandas as pd\n",
    "import numpy as np\n",
    "\n",
    "import sklearn\n",
    "import pickle"
   ]
  },
  {
   "cell_type": "markdown",
   "metadata": {},
   "source": [
    "## Load the Rothko art metrics"
   ]
  },
  {
   "cell_type": "code",
   "execution_count": 40,
   "metadata": {},
   "outputs": [
    {
     "data": {
      "text/html": [
       "<div>\n",
       "<style>\n",
       "    .dataframe thead tr:only-child th {\n",
       "        text-align: right;\n",
       "    }\n",
       "\n",
       "    .dataframe thead th {\n",
       "        text-align: left;\n",
       "    }\n",
       "\n",
       "    .dataframe tbody tr th {\n",
       "        vertical-align: top;\n",
       "    }\n",
       "</style>\n",
       "<table border=\"1\" class=\"dataframe\">\n",
       "  <thead>\n",
       "    <tr style=\"text-align: right;\">\n",
       "      <th></th>\n",
       "      <th>year</th>\n",
       "      <th>shannon_entropy</th>\n",
       "      <th>mean_color_r</th>\n",
       "      <th>luminance</th>\n",
       "      <th>contrast</th>\n",
       "      <th>contour</th>\n",
       "    </tr>\n",
       "  </thead>\n",
       "  <tbody>\n",
       "    <tr>\n",
       "      <th>0</th>\n",
       "      <td>1946</td>\n",
       "      <td>6.768127</td>\n",
       "      <td>195.046332</td>\n",
       "      <td>181.738624</td>\n",
       "      <td>0.827169</td>\n",
       "      <td>0.000056</td>\n",
       "    </tr>\n",
       "    <tr>\n",
       "      <th>1</th>\n",
       "      <td>1953</td>\n",
       "      <td>6.937948</td>\n",
       "      <td>228.983463</td>\n",
       "      <td>161.723046</td>\n",
       "      <td>0.587802</td>\n",
       "      <td>0.000000</td>\n",
       "    </tr>\n",
       "    <tr>\n",
       "      <th>2</th>\n",
       "      <td>1944</td>\n",
       "      <td>6.519651</td>\n",
       "      <td>217.905564</td>\n",
       "      <td>214.564295</td>\n",
       "      <td>0.853499</td>\n",
       "      <td>0.003758</td>\n",
       "    </tr>\n",
       "    <tr>\n",
       "      <th>3</th>\n",
       "      <td>1951</td>\n",
       "      <td>6.451747</td>\n",
       "      <td>191.229599</td>\n",
       "      <td>184.080065</td>\n",
       "      <td>0.706196</td>\n",
       "      <td>0.000063</td>\n",
       "    </tr>\n",
       "    <tr>\n",
       "      <th>4</th>\n",
       "      <td>1949</td>\n",
       "      <td>5.738259</td>\n",
       "      <td>230.154804</td>\n",
       "      <td>224.799111</td>\n",
       "      <td>0.658131</td>\n",
       "      <td>0.000000</td>\n",
       "    </tr>\n",
       "  </tbody>\n",
       "</table>\n",
       "</div>"
      ],
      "text/plain": [
       "   year  shannon_entropy  mean_color_r   luminance  contrast   contour\n",
       "0  1946         6.768127    195.046332  181.738624  0.827169  0.000056\n",
       "1  1953         6.937948    228.983463  161.723046  0.587802  0.000000\n",
       "2  1944         6.519651    217.905564  214.564295  0.853499  0.003758\n",
       "3  1951         6.451747    191.229599  184.080065  0.706196  0.000063\n",
       "4  1949         5.738259    230.154804  224.799111  0.658131  0.000000"
      ]
     },
     "execution_count": 40,
     "metadata": {},
     "output_type": "execute_result"
    }
   ],
   "source": [
    "data = pd.DataFrame.from_csv('../../data/data.csv')\n",
    "data = data[['year','shannon_entropy','mean_color_r','luminance','contrast', 'contour']]\n",
    "data.head()"
   ]
  },
  {
   "cell_type": "code",
   "execution_count": 41,
   "metadata": {},
   "outputs": [
    {
     "data": {
      "text/html": [
       "<div>\n",
       "<style>\n",
       "    .dataframe thead tr:only-child th {\n",
       "        text-align: right;\n",
       "    }\n",
       "\n",
       "    .dataframe thead th {\n",
       "        text-align: left;\n",
       "    }\n",
       "\n",
       "    .dataframe tbody tr th {\n",
       "        vertical-align: top;\n",
       "    }\n",
       "</style>\n",
       "<table border=\"1\" class=\"dataframe\">\n",
       "  <thead>\n",
       "    <tr style=\"text-align: right;\">\n",
       "      <th></th>\n",
       "      <th>year</th>\n",
       "      <th>shannon_entropy</th>\n",
       "      <th>mean_color_r</th>\n",
       "      <th>luminance</th>\n",
       "      <th>contrast</th>\n",
       "      <th>contour</th>\n",
       "      <th>year_bin</th>\n",
       "    </tr>\n",
       "  </thead>\n",
       "  <tbody>\n",
       "    <tr>\n",
       "      <th>0</th>\n",
       "      <td>1946</td>\n",
       "      <td>6.768127</td>\n",
       "      <td>195.046332</td>\n",
       "      <td>181.738624</td>\n",
       "      <td>0.827169</td>\n",
       "      <td>0.000056</td>\n",
       "      <td>(1940, 1947]</td>\n",
       "    </tr>\n",
       "    <tr>\n",
       "      <th>1</th>\n",
       "      <td>1953</td>\n",
       "      <td>6.937948</td>\n",
       "      <td>228.983463</td>\n",
       "      <td>161.723046</td>\n",
       "      <td>0.587802</td>\n",
       "      <td>0.000000</td>\n",
       "      <td>(1950, 1968]</td>\n",
       "    </tr>\n",
       "    <tr>\n",
       "      <th>2</th>\n",
       "      <td>1944</td>\n",
       "      <td>6.519651</td>\n",
       "      <td>217.905564</td>\n",
       "      <td>214.564295</td>\n",
       "      <td>0.853499</td>\n",
       "      <td>0.003758</td>\n",
       "      <td>(1940, 1947]</td>\n",
       "    </tr>\n",
       "    <tr>\n",
       "      <th>3</th>\n",
       "      <td>1951</td>\n",
       "      <td>6.451747</td>\n",
       "      <td>191.229599</td>\n",
       "      <td>184.080065</td>\n",
       "      <td>0.706196</td>\n",
       "      <td>0.000063</td>\n",
       "      <td>(1950, 1968]</td>\n",
       "    </tr>\n",
       "    <tr>\n",
       "      <th>4</th>\n",
       "      <td>1949</td>\n",
       "      <td>5.738259</td>\n",
       "      <td>230.154804</td>\n",
       "      <td>224.799111</td>\n",
       "      <td>0.658131</td>\n",
       "      <td>0.000000</td>\n",
       "      <td>(1947, 1950]</td>\n",
       "    </tr>\n",
       "  </tbody>\n",
       "</table>\n",
       "</div>"
      ],
      "text/plain": [
       "   year  shannon_entropy  mean_color_r   luminance  contrast   contour  \\\n",
       "0  1946         6.768127    195.046332  181.738624  0.827169  0.000056   \n",
       "1  1953         6.937948    228.983463  161.723046  0.587802  0.000000   \n",
       "2  1944         6.519651    217.905564  214.564295  0.853499  0.003758   \n",
       "3  1951         6.451747    191.229599  184.080065  0.706196  0.000063   \n",
       "4  1949         5.738259    230.154804  224.799111  0.658131  0.000000   \n",
       "\n",
       "       year_bin  \n",
       "0  (1940, 1947]  \n",
       "1  (1950, 1968]  \n",
       "2  (1940, 1947]  \n",
       "3  (1950, 1968]  \n",
       "4  (1947, 1950]  "
      ]
     },
     "execution_count": 41,
     "metadata": {},
     "output_type": "execute_result"
    }
   ],
   "source": [
    "# bin the years\n",
    "bins = [1935, 1940, 1947, 1950, 1968, 1971]\n",
    "data['year_bin']=pd.cut(data['year'], bins)\n",
    "data.head()"
   ]
  },
  {
   "cell_type": "code",
   "execution_count": 42,
   "metadata": {
    "collapsed": true
   },
   "outputs": [],
   "source": [
    "# Split into train and test data\n",
    "features = data[['shannon_entropy','mean_color_r','luminance','contrast', 'contour']]\n",
    "target = data['year_bin'].astype(str)\n",
    "features_train, features_test, target_train, target_test = train_test_split(features, target, random_state=41)"
   ]
  },
  {
   "cell_type": "code",
   "execution_count": 43,
   "metadata": {},
   "outputs": [
    {
     "data": {
      "text/plain": [
       "['shannon_entropy', 'mean_color_r', 'luminance', 'contrast', 'contour']"
      ]
     },
     "execution_count": 43,
     "metadata": {},
     "output_type": "execute_result"
    }
   ],
   "source": [
    "features.columns.tolist()"
   ]
  },
  {
   "cell_type": "markdown",
   "metadata": {
    "collapsed": true
   },
   "source": [
    "## Create the Random Forest model and train it"
   ]
  },
  {
   "cell_type": "code",
   "execution_count": 44,
   "metadata": {},
   "outputs": [
    {
     "data": {
      "text/plain": [
       "1.0"
      ]
     },
     "execution_count": 44,
     "metadata": {},
     "output_type": "execute_result"
    }
   ],
   "source": [
    "# Create a random forest classifier\n",
    "rf = RandomForestClassifier(n_estimators=200)\n",
    "rf = rf.fit(features_train, target_train)\n",
    "rf.score(features_train, target_train)"
   ]
  },
  {
   "cell_type": "code",
   "execution_count": 45,
   "metadata": {},
   "outputs": [
    {
     "data": {
      "text/plain": [
       "array([0.28051883, 0.1908065 , 0.19000446, 0.17473661, 0.1639336 ])"
      ]
     },
     "execution_count": 45,
     "metadata": {},
     "output_type": "execute_result"
    }
   ],
   "source": [
    "# Random Forests in sklearn will automatically calculate feature importance\n",
    "importances = rf.feature_importances_\n",
    "importances"
   ]
  },
  {
   "cell_type": "code",
   "execution_count": 46,
   "metadata": {},
   "outputs": [
    {
     "data": {
      "text/plain": [
       "[(0.28051882772466064, 'shannon_entropy'),\n",
       " (0.19080650301747532, 'mean_color_r'),\n",
       " (0.19000445833529497, 'luminance'),\n",
       " (0.17473661214568456, 'contrast'),\n",
       " (0.16393359877688443, 'contour')]"
      ]
     },
     "execution_count": 46,
     "metadata": {},
     "output_type": "execute_result"
    }
   ],
   "source": [
    "# We can sort the features by their importance\n",
    "sorted(zip(rf.feature_importances_, features.columns.tolist()), reverse=True)"
   ]
  },
  {
   "cell_type": "markdown",
   "metadata": {},
   "source": [
    "## Predict using the model"
   ]
  },
  {
   "cell_type": "code",
   "execution_count": 47,
   "metadata": {
    "collapsed": true
   },
   "outputs": [],
   "source": [
    "# predict the test data\n",
    "predicted = rf.predict(features_test)"
   ]
  },
  {
   "cell_type": "code",
   "execution_count": 48,
   "metadata": {},
   "outputs": [
    {
     "data": {
      "text/plain": [
       "0.8333333333333334"
      ]
     },
     "execution_count": 48,
     "metadata": {},
     "output_type": "execute_result"
    }
   ],
   "source": [
    "# score on the test data\n",
    "rf.score(features_test, target_test)"
   ]
  },
  {
   "cell_type": "code",
   "execution_count": 49,
   "metadata": {},
   "outputs": [
    {
     "data": {
      "text/plain": [
       "0.8333333333333334"
      ]
     },
     "execution_count": 49,
     "metadata": {},
     "output_type": "execute_result"
    }
   ],
   "source": [
    "# score on the test\n",
    "sklearn.metrics.accuracy_score(target_test,predicted)"
   ]
  },
  {
   "cell_type": "code",
   "execution_count": 50,
   "metadata": {},
   "outputs": [],
   "source": [
    "# Save the model to a file\n",
    "filename = \"RothkoRandomForestModel.pkl\"\n",
    "pickle.dump(rf, open(filename, \"wb\"))"
   ]
  },
  {
   "cell_type": "code",
   "execution_count": 51,
   "metadata": {
    "collapsed": true
   },
   "outputs": [],
   "source": [
    "# load the model from disk\n",
    "loaded_rf = pickle.load(open(filename, \"rb\"))"
   ]
  },
  {
   "cell_type": "code",
   "execution_count": 52,
   "metadata": {},
   "outputs": [
    {
     "data": {
      "text/plain": [
       "0.8333333333333334"
      ]
     },
     "execution_count": 52,
     "metadata": {},
     "output_type": "execute_result"
    }
   ],
   "source": [
    "loaded_rf.score(features_test, target_test)"
   ]
  },
  {
   "cell_type": "code",
   "execution_count": null,
   "metadata": {
    "collapsed": true
   },
   "outputs": [],
   "source": []
  }
 ],
 "metadata": {
  "kernelspec": {
   "display_name": "Python 3",
   "language": "python",
   "name": "python3"
  },
  "language_info": {
   "codemirror_mode": {
    "name": "ipython",
    "version": 3
   },
   "file_extension": ".py",
   "mimetype": "text/x-python",
   "name": "python",
   "nbconvert_exporter": "python",
   "pygments_lexer": "ipython3",
   "version": "3.6.5"
  }
 },
 "nbformat": 4,
 "nbformat_minor": 2
}
