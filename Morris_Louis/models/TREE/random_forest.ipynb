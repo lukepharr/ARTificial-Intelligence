{
 "cells": [
  {
   "cell_type": "markdown",
   "metadata": {},
   "source": [
    "# Random Forest Classifier for Morris Louis Art"
   ]
  },
  {
   "cell_type": "code",
   "execution_count": 33,
   "metadata": {
    "collapsed": true
   },
   "outputs": [],
   "source": [
    "from sklearn.ensemble import RandomForestClassifier\n",
    "from sklearn.model_selection import train_test_split\n",
    "\n",
    "import pandas as pd\n",
    "import numpy as np\n",
    "import sklearn\n",
    "import pickle"
   ]
  },
  {
   "cell_type": "markdown",
   "metadata": {},
   "source": [
    "## Load the Morris Louis metrics"
   ]
  },
  {
   "cell_type": "code",
   "execution_count": 34,
   "metadata": {},
   "outputs": [
    {
     "data": {
      "text/html": [
       "<div>\n",
       "<style>\n",
       "    .dataframe thead tr:only-child th {\n",
       "        text-align: right;\n",
       "    }\n",
       "\n",
       "    .dataframe thead th {\n",
       "        text-align: left;\n",
       "    }\n",
       "\n",
       "    .dataframe tbody tr th {\n",
       "        vertical-align: top;\n",
       "    }\n",
       "</style>\n",
       "<table border=\"1\" class=\"dataframe\">\n",
       "  <thead>\n",
       "    <tr style=\"text-align: right;\">\n",
       "      <th></th>\n",
       "      <th>period</th>\n",
       "      <th>shannon_entropy</th>\n",
       "      <th>mean_color_r</th>\n",
       "      <th>luminance</th>\n",
       "      <th>contrast</th>\n",
       "      <th>contour</th>\n",
       "    </tr>\n",
       "  </thead>\n",
       "  <tbody>\n",
       "    <tr>\n",
       "      <th>0</th>\n",
       "      <td>themes_variations_59_60</td>\n",
       "      <td>7.683989</td>\n",
       "      <td>111.635539</td>\n",
       "      <td>104.752119</td>\n",
       "      <td>0.913992</td>\n",
       "      <td>0.001029</td>\n",
       "    </tr>\n",
       "    <tr>\n",
       "      <th>1</th>\n",
       "      <td>themes_variations_59_60</td>\n",
       "      <td>7.577162</td>\n",
       "      <td>179.380990</td>\n",
       "      <td>147.490592</td>\n",
       "      <td>0.691603</td>\n",
       "      <td>0.000051</td>\n",
       "    </tr>\n",
       "    <tr>\n",
       "      <th>2</th>\n",
       "      <td>themes_variations_59_60</td>\n",
       "      <td>7.579554</td>\n",
       "      <td>162.274002</td>\n",
       "      <td>126.479898</td>\n",
       "      <td>0.834955</td>\n",
       "      <td>0.000693</td>\n",
       "    </tr>\n",
       "    <tr>\n",
       "      <th>3</th>\n",
       "      <td>themes_variations_59_60</td>\n",
       "      <td>7.387632</td>\n",
       "      <td>103.497807</td>\n",
       "      <td>113.420688</td>\n",
       "      <td>0.848749</td>\n",
       "      <td>0.000054</td>\n",
       "    </tr>\n",
       "    <tr>\n",
       "      <th>4</th>\n",
       "      <td>themes_variations_59_60</td>\n",
       "      <td>7.853511</td>\n",
       "      <td>154.675751</td>\n",
       "      <td>127.536419</td>\n",
       "      <td>0.904835</td>\n",
       "      <td>0.001158</td>\n",
       "    </tr>\n",
       "  </tbody>\n",
       "</table>\n",
       "</div>"
      ],
      "text/plain": [
       "                    period  shannon_entropy  mean_color_r   luminance  \\\n",
       "0  themes_variations_59_60         7.683989    111.635539  104.752119   \n",
       "1  themes_variations_59_60         7.577162    179.380990  147.490592   \n",
       "2  themes_variations_59_60         7.579554    162.274002  126.479898   \n",
       "3  themes_variations_59_60         7.387632    103.497807  113.420688   \n",
       "4  themes_variations_59_60         7.853511    154.675751  127.536419   \n",
       "\n",
       "   contrast   contour  \n",
       "0  0.913992  0.001029  \n",
       "1  0.691603  0.000051  \n",
       "2  0.834955  0.000693  \n",
       "3  0.848749  0.000054  \n",
       "4  0.904835  0.001158  "
      ]
     },
     "execution_count": 34,
     "metadata": {},
     "output_type": "execute_result"
    }
   ],
   "source": [
    "data = pd.DataFrame.from_csv('../../data/data.csv')\n",
    "data = data[['period','shannon_entropy','mean_color_r','luminance','contrast', 'contour']]\n",
    "data.head()"
   ]
  },
  {
   "cell_type": "code",
   "execution_count": 35,
   "metadata": {
    "collapsed": true
   },
   "outputs": [],
   "source": [
    "# Split into train and test data\n",
    "features = data[['shannon_entropy','mean_color_r','luminance','contrast', 'contour']]\n",
    "target = data['period'].astype(str)\n",
    "features_train, features_test, target_train, target_test = train_test_split(features, target, random_state=41)"
   ]
  },
  {
   "cell_type": "code",
   "execution_count": 36,
   "metadata": {},
   "outputs": [
    {
     "data": {
      "text/plain": [
       "['shannon_entropy', 'mean_color_r', 'luminance', 'contrast', 'contour']"
      ]
     },
     "execution_count": 36,
     "metadata": {},
     "output_type": "execute_result"
    }
   ],
   "source": [
    "features.columns.tolist()"
   ]
  },
  {
   "cell_type": "markdown",
   "metadata": {},
   "source": [
    "## Create the Random Forest Classifier and train the model"
   ]
  },
  {
   "cell_type": "code",
   "execution_count": 37,
   "metadata": {},
   "outputs": [
    {
     "data": {
      "text/plain": [
       "1.0"
      ]
     },
     "execution_count": 37,
     "metadata": {},
     "output_type": "execute_result"
    }
   ],
   "source": [
    "# Create a random forest classifier\n",
    "rf = RandomForestClassifier(n_estimators=200)\n",
    "rf = rf.fit(features_train, target_train)\n",
    "rf.score(features_train, target_train)"
   ]
  },
  {
   "cell_type": "code",
   "execution_count": 38,
   "metadata": {},
   "outputs": [
    {
     "data": {
      "text/plain": [
       "array([0.18775708, 0.2312438 , 0.25766617, 0.15228853, 0.17104442])"
      ]
     },
     "execution_count": 38,
     "metadata": {},
     "output_type": "execute_result"
    }
   ],
   "source": [
    "# Random Forests in sklearn will automatically calculate feature importance\n",
    "importances = rf.feature_importances_\n",
    "importances"
   ]
  },
  {
   "cell_type": "code",
   "execution_count": 39,
   "metadata": {},
   "outputs": [
    {
     "data": {
      "text/plain": [
       "[(0.25766617087076754, 'luminance'),\n",
       " (0.23124379682417862, 'mean_color_r'),\n",
       " (0.1877570826351552, 'shannon_entropy'),\n",
       " (0.17104442250653495, 'contour'),\n",
       " (0.15228852716336425, 'contrast')]"
      ]
     },
     "execution_count": 39,
     "metadata": {},
     "output_type": "execute_result"
    }
   ],
   "source": [
    "# We can sort the features by their importance\n",
    "sorted(zip(rf.feature_importances_, features.columns.tolist()), reverse=True)"
   ]
  },
  {
   "cell_type": "markdown",
   "metadata": {},
   "source": [
    "## Predict and save the model"
   ]
  },
  {
   "cell_type": "code",
   "execution_count": 40,
   "metadata": {
    "collapsed": true
   },
   "outputs": [],
   "source": [
    "predicted = rf.predict(features_test)"
   ]
  },
  {
   "cell_type": "code",
   "execution_count": 41,
   "metadata": {},
   "outputs": [
    {
     "data": {
      "text/plain": [
       "0.6204819277108434"
      ]
     },
     "execution_count": 41,
     "metadata": {},
     "output_type": "execute_result"
    }
   ],
   "source": [
    "rf.score(features_test, target_test)"
   ]
  },
  {
   "cell_type": "code",
   "execution_count": 42,
   "metadata": {},
   "outputs": [
    {
     "data": {
      "text/plain": [
       "0.6204819277108434"
      ]
     },
     "execution_count": 42,
     "metadata": {},
     "output_type": "execute_result"
    }
   ],
   "source": [
    "import sklearn\n",
    "sklearn.metrics.accuracy_score(target_test,predicted)"
   ]
  },
  {
   "cell_type": "code",
   "execution_count": 43,
   "metadata": {},
   "outputs": [
    {
     "data": {
      "text/html": [
       "<div>\n",
       "<style>\n",
       "    .dataframe thead tr:only-child th {\n",
       "        text-align: right;\n",
       "    }\n",
       "\n",
       "    .dataframe thead th {\n",
       "        text-align: left;\n",
       "    }\n",
       "\n",
       "    .dataframe tbody tr th {\n",
       "        vertical-align: top;\n",
       "    }\n",
       "</style>\n",
       "<table border=\"1\" class=\"dataframe\">\n",
       "  <thead>\n",
       "    <tr style=\"text-align: right;\">\n",
       "      <th></th>\n",
       "      <th>actual</th>\n",
       "      <th>predicted</th>\n",
       "      <th>compare</th>\n",
       "    </tr>\n",
       "  </thead>\n",
       "  <tbody>\n",
       "    <tr>\n",
       "      <th>0</th>\n",
       "      <td>early_paintings_34_53</td>\n",
       "      <td>stripe_paintings_61_62</td>\n",
       "      <td>False</td>\n",
       "    </tr>\n",
       "    <tr>\n",
       "      <th>1</th>\n",
       "      <td>abstract_expressionist_55_57</td>\n",
       "      <td>veil_paintings_58_59</td>\n",
       "      <td>False</td>\n",
       "    </tr>\n",
       "    <tr>\n",
       "      <th>2</th>\n",
       "      <td>themes_variations_59_60</td>\n",
       "      <td>stripe_paintings_61_62</td>\n",
       "      <td>False</td>\n",
       "    </tr>\n",
       "    <tr>\n",
       "      <th>3</th>\n",
       "      <td>veil_paintings_58_59</td>\n",
       "      <td>veil_paintings_58_59</td>\n",
       "      <td>True</td>\n",
       "    </tr>\n",
       "    <tr>\n",
       "      <th>4</th>\n",
       "      <td>stripe_paintings_61_62</td>\n",
       "      <td>unfurled_paintings_60_61</td>\n",
       "      <td>False</td>\n",
       "    </tr>\n",
       "    <tr>\n",
       "      <th>5</th>\n",
       "      <td>early_paintings_34_53</td>\n",
       "      <td>veil_paintings_58_59</td>\n",
       "      <td>False</td>\n",
       "    </tr>\n",
       "    <tr>\n",
       "      <th>6</th>\n",
       "      <td>stripe_paintings_61_62</td>\n",
       "      <td>stripe_paintings_61_62</td>\n",
       "      <td>True</td>\n",
       "    </tr>\n",
       "    <tr>\n",
       "      <th>7</th>\n",
       "      <td>unfurled_paintings_60_61</td>\n",
       "      <td>unfurled_paintings_60_61</td>\n",
       "      <td>True</td>\n",
       "    </tr>\n",
       "    <tr>\n",
       "      <th>8</th>\n",
       "      <td>unfurled_paintings_60_61</td>\n",
       "      <td>unfurled_paintings_60_61</td>\n",
       "      <td>True</td>\n",
       "    </tr>\n",
       "    <tr>\n",
       "      <th>9</th>\n",
       "      <td>themes_variations_59_60</td>\n",
       "      <td>themes_variations_59_60</td>\n",
       "      <td>True</td>\n",
       "    </tr>\n",
       "    <tr>\n",
       "      <th>10</th>\n",
       "      <td>unfurled_paintings_60_61</td>\n",
       "      <td>unfurled_paintings_60_61</td>\n",
       "      <td>True</td>\n",
       "    </tr>\n",
       "    <tr>\n",
       "      <th>11</th>\n",
       "      <td>stripe_paintings_61_62</td>\n",
       "      <td>stripe_paintings_61_62</td>\n",
       "      <td>True</td>\n",
       "    </tr>\n",
       "    <tr>\n",
       "      <th>12</th>\n",
       "      <td>unfurled_paintings_60_61</td>\n",
       "      <td>stripe_paintings_61_62</td>\n",
       "      <td>False</td>\n",
       "    </tr>\n",
       "    <tr>\n",
       "      <th>13</th>\n",
       "      <td>abstract_expressionist_55_57</td>\n",
       "      <td>veil_paintings_58_59</td>\n",
       "      <td>False</td>\n",
       "    </tr>\n",
       "    <tr>\n",
       "      <th>14</th>\n",
       "      <td>veil_paintings_58_59</td>\n",
       "      <td>stripe_paintings_61_62</td>\n",
       "      <td>False</td>\n",
       "    </tr>\n",
       "    <tr>\n",
       "      <th>15</th>\n",
       "      <td>stripe_paintings_61_62</td>\n",
       "      <td>stripe_paintings_61_62</td>\n",
       "      <td>True</td>\n",
       "    </tr>\n",
       "    <tr>\n",
       "      <th>16</th>\n",
       "      <td>stripe_paintings_61_62</td>\n",
       "      <td>stripe_paintings_61_62</td>\n",
       "      <td>True</td>\n",
       "    </tr>\n",
       "    <tr>\n",
       "      <th>17</th>\n",
       "      <td>stripe_paintings_61_62</td>\n",
       "      <td>stripe_paintings_61_62</td>\n",
       "      <td>True</td>\n",
       "    </tr>\n",
       "    <tr>\n",
       "      <th>18</th>\n",
       "      <td>stripe_paintings_61_62</td>\n",
       "      <td>stripe_paintings_61_62</td>\n",
       "      <td>True</td>\n",
       "    </tr>\n",
       "    <tr>\n",
       "      <th>19</th>\n",
       "      <td>unfurled_paintings_60_61</td>\n",
       "      <td>unfurled_paintings_60_61</td>\n",
       "      <td>True</td>\n",
       "    </tr>\n",
       "    <tr>\n",
       "      <th>20</th>\n",
       "      <td>unfurled_paintings_60_61</td>\n",
       "      <td>unfurled_paintings_60_61</td>\n",
       "      <td>True</td>\n",
       "    </tr>\n",
       "    <tr>\n",
       "      <th>21</th>\n",
       "      <td>unfurled_paintings_60_61</td>\n",
       "      <td>unfurled_paintings_60_61</td>\n",
       "      <td>True</td>\n",
       "    </tr>\n",
       "    <tr>\n",
       "      <th>22</th>\n",
       "      <td>veil_paintings_54</td>\n",
       "      <td>veil_paintings_58_59</td>\n",
       "      <td>False</td>\n",
       "    </tr>\n",
       "    <tr>\n",
       "      <th>23</th>\n",
       "      <td>stripe_paintings_61_62</td>\n",
       "      <td>unfurled_paintings_60_61</td>\n",
       "      <td>False</td>\n",
       "    </tr>\n",
       "    <tr>\n",
       "      <th>24</th>\n",
       "      <td>unfurled_paintings_60_61</td>\n",
       "      <td>stripe_paintings_61_62</td>\n",
       "      <td>False</td>\n",
       "    </tr>\n",
       "    <tr>\n",
       "      <th>25</th>\n",
       "      <td>veil_paintings_58_59</td>\n",
       "      <td>stripe_paintings_61_62</td>\n",
       "      <td>False</td>\n",
       "    </tr>\n",
       "    <tr>\n",
       "      <th>26</th>\n",
       "      <td>early_paintings_34_53</td>\n",
       "      <td>early_paintings_34_53</td>\n",
       "      <td>True</td>\n",
       "    </tr>\n",
       "    <tr>\n",
       "      <th>27</th>\n",
       "      <td>unfurled_paintings_60_61</td>\n",
       "      <td>stripe_paintings_61_62</td>\n",
       "      <td>False</td>\n",
       "    </tr>\n",
       "    <tr>\n",
       "      <th>28</th>\n",
       "      <td>unfurled_paintings_60_61</td>\n",
       "      <td>unfurled_paintings_60_61</td>\n",
       "      <td>True</td>\n",
       "    </tr>\n",
       "    <tr>\n",
       "      <th>29</th>\n",
       "      <td>themes_variations_59_60</td>\n",
       "      <td>stripe_paintings_61_62</td>\n",
       "      <td>False</td>\n",
       "    </tr>\n",
       "    <tr>\n",
       "      <th>...</th>\n",
       "      <td>...</td>\n",
       "      <td>...</td>\n",
       "      <td>...</td>\n",
       "    </tr>\n",
       "    <tr>\n",
       "      <th>136</th>\n",
       "      <td>early_paintings_34_53</td>\n",
       "      <td>veil_paintings_58_59</td>\n",
       "      <td>False</td>\n",
       "    </tr>\n",
       "    <tr>\n",
       "      <th>137</th>\n",
       "      <td>themes_variations_59_60</td>\n",
       "      <td>veil_paintings_58_59</td>\n",
       "      <td>False</td>\n",
       "    </tr>\n",
       "    <tr>\n",
       "      <th>138</th>\n",
       "      <td>stripe_paintings_61_62</td>\n",
       "      <td>stripe_paintings_61_62</td>\n",
       "      <td>True</td>\n",
       "    </tr>\n",
       "    <tr>\n",
       "      <th>139</th>\n",
       "      <td>themes_variations_59_60</td>\n",
       "      <td>themes_variations_59_60</td>\n",
       "      <td>True</td>\n",
       "    </tr>\n",
       "    <tr>\n",
       "      <th>140</th>\n",
       "      <td>stripe_paintings_61_62</td>\n",
       "      <td>stripe_paintings_61_62</td>\n",
       "      <td>True</td>\n",
       "    </tr>\n",
       "    <tr>\n",
       "      <th>141</th>\n",
       "      <td>veil_paintings_58_59</td>\n",
       "      <td>veil_paintings_58_59</td>\n",
       "      <td>True</td>\n",
       "    </tr>\n",
       "    <tr>\n",
       "      <th>142</th>\n",
       "      <td>stripe_paintings_61_62</td>\n",
       "      <td>stripe_paintings_61_62</td>\n",
       "      <td>True</td>\n",
       "    </tr>\n",
       "    <tr>\n",
       "      <th>143</th>\n",
       "      <td>unfurled_paintings_60_61</td>\n",
       "      <td>unfurled_paintings_60_61</td>\n",
       "      <td>True</td>\n",
       "    </tr>\n",
       "    <tr>\n",
       "      <th>144</th>\n",
       "      <td>themes_variations_59_60</td>\n",
       "      <td>themes_variations_59_60</td>\n",
       "      <td>True</td>\n",
       "    </tr>\n",
       "    <tr>\n",
       "      <th>145</th>\n",
       "      <td>early_paintings_34_53</td>\n",
       "      <td>early_paintings_34_53</td>\n",
       "      <td>True</td>\n",
       "    </tr>\n",
       "    <tr>\n",
       "      <th>146</th>\n",
       "      <td>veil_paintings_58_59</td>\n",
       "      <td>abstract_expressionist_55_57</td>\n",
       "      <td>False</td>\n",
       "    </tr>\n",
       "    <tr>\n",
       "      <th>147</th>\n",
       "      <td>stripe_paintings_61_62</td>\n",
       "      <td>stripe_paintings_61_62</td>\n",
       "      <td>True</td>\n",
       "    </tr>\n",
       "    <tr>\n",
       "      <th>148</th>\n",
       "      <td>early_paintings_34_53</td>\n",
       "      <td>themes_variations_59_60</td>\n",
       "      <td>False</td>\n",
       "    </tr>\n",
       "    <tr>\n",
       "      <th>149</th>\n",
       "      <td>themes_variations_59_60</td>\n",
       "      <td>themes_variations_59_60</td>\n",
       "      <td>True</td>\n",
       "    </tr>\n",
       "    <tr>\n",
       "      <th>150</th>\n",
       "      <td>veil_paintings_58_59</td>\n",
       "      <td>veil_paintings_58_59</td>\n",
       "      <td>True</td>\n",
       "    </tr>\n",
       "    <tr>\n",
       "      <th>151</th>\n",
       "      <td>stripe_paintings_61_62</td>\n",
       "      <td>stripe_paintings_61_62</td>\n",
       "      <td>True</td>\n",
       "    </tr>\n",
       "    <tr>\n",
       "      <th>152</th>\n",
       "      <td>veil_paintings_58_59</td>\n",
       "      <td>stripe_paintings_61_62</td>\n",
       "      <td>False</td>\n",
       "    </tr>\n",
       "    <tr>\n",
       "      <th>153</th>\n",
       "      <td>stripe_paintings_61_62</td>\n",
       "      <td>stripe_paintings_61_62</td>\n",
       "      <td>True</td>\n",
       "    </tr>\n",
       "    <tr>\n",
       "      <th>154</th>\n",
       "      <td>themes_variations_59_60</td>\n",
       "      <td>early_paintings_34_53</td>\n",
       "      <td>False</td>\n",
       "    </tr>\n",
       "    <tr>\n",
       "      <th>155</th>\n",
       "      <td>veil_paintings_58_59</td>\n",
       "      <td>veil_paintings_58_59</td>\n",
       "      <td>True</td>\n",
       "    </tr>\n",
       "    <tr>\n",
       "      <th>156</th>\n",
       "      <td>themes_variations_59_60</td>\n",
       "      <td>abstract_expressionist_55_57</td>\n",
       "      <td>False</td>\n",
       "    </tr>\n",
       "    <tr>\n",
       "      <th>157</th>\n",
       "      <td>early_paintings_34_53</td>\n",
       "      <td>themes_variations_59_60</td>\n",
       "      <td>False</td>\n",
       "    </tr>\n",
       "    <tr>\n",
       "      <th>158</th>\n",
       "      <td>themes_variations_59_60</td>\n",
       "      <td>unfurled_paintings_60_61</td>\n",
       "      <td>False</td>\n",
       "    </tr>\n",
       "    <tr>\n",
       "      <th>159</th>\n",
       "      <td>unfurled_paintings_60_61</td>\n",
       "      <td>unfurled_paintings_60_61</td>\n",
       "      <td>True</td>\n",
       "    </tr>\n",
       "    <tr>\n",
       "      <th>160</th>\n",
       "      <td>unfurled_paintings_60_61</td>\n",
       "      <td>unfurled_paintings_60_61</td>\n",
       "      <td>True</td>\n",
       "    </tr>\n",
       "    <tr>\n",
       "      <th>161</th>\n",
       "      <td>stripe_paintings_61_62</td>\n",
       "      <td>stripe_paintings_61_62</td>\n",
       "      <td>True</td>\n",
       "    </tr>\n",
       "    <tr>\n",
       "      <th>162</th>\n",
       "      <td>stripe_paintings_61_62</td>\n",
       "      <td>stripe_paintings_61_62</td>\n",
       "      <td>True</td>\n",
       "    </tr>\n",
       "    <tr>\n",
       "      <th>163</th>\n",
       "      <td>veil_paintings_58_59</td>\n",
       "      <td>themes_variations_59_60</td>\n",
       "      <td>False</td>\n",
       "    </tr>\n",
       "    <tr>\n",
       "      <th>164</th>\n",
       "      <td>stripe_paintings_61_62</td>\n",
       "      <td>stripe_paintings_61_62</td>\n",
       "      <td>True</td>\n",
       "    </tr>\n",
       "    <tr>\n",
       "      <th>165</th>\n",
       "      <td>veil_paintings_58_59</td>\n",
       "      <td>veil_paintings_58_59</td>\n",
       "      <td>True</td>\n",
       "    </tr>\n",
       "  </tbody>\n",
       "</table>\n",
       "<p>166 rows × 3 columns</p>\n",
       "</div>"
      ],
      "text/plain": [
       "                           actual                     predicted  compare\n",
       "0           early_paintings_34_53        stripe_paintings_61_62    False\n",
       "1    abstract_expressionist_55_57          veil_paintings_58_59    False\n",
       "2         themes_variations_59_60        stripe_paintings_61_62    False\n",
       "3            veil_paintings_58_59          veil_paintings_58_59     True\n",
       "4          stripe_paintings_61_62      unfurled_paintings_60_61    False\n",
       "5           early_paintings_34_53          veil_paintings_58_59    False\n",
       "6          stripe_paintings_61_62        stripe_paintings_61_62     True\n",
       "7        unfurled_paintings_60_61      unfurled_paintings_60_61     True\n",
       "8        unfurled_paintings_60_61      unfurled_paintings_60_61     True\n",
       "9         themes_variations_59_60       themes_variations_59_60     True\n",
       "10       unfurled_paintings_60_61      unfurled_paintings_60_61     True\n",
       "11         stripe_paintings_61_62        stripe_paintings_61_62     True\n",
       "12       unfurled_paintings_60_61        stripe_paintings_61_62    False\n",
       "13   abstract_expressionist_55_57          veil_paintings_58_59    False\n",
       "14           veil_paintings_58_59        stripe_paintings_61_62    False\n",
       "15         stripe_paintings_61_62        stripe_paintings_61_62     True\n",
       "16         stripe_paintings_61_62        stripe_paintings_61_62     True\n",
       "17         stripe_paintings_61_62        stripe_paintings_61_62     True\n",
       "18         stripe_paintings_61_62        stripe_paintings_61_62     True\n",
       "19       unfurled_paintings_60_61      unfurled_paintings_60_61     True\n",
       "20       unfurled_paintings_60_61      unfurled_paintings_60_61     True\n",
       "21       unfurled_paintings_60_61      unfurled_paintings_60_61     True\n",
       "22              veil_paintings_54          veil_paintings_58_59    False\n",
       "23         stripe_paintings_61_62      unfurled_paintings_60_61    False\n",
       "24       unfurled_paintings_60_61        stripe_paintings_61_62    False\n",
       "25           veil_paintings_58_59        stripe_paintings_61_62    False\n",
       "26          early_paintings_34_53         early_paintings_34_53     True\n",
       "27       unfurled_paintings_60_61        stripe_paintings_61_62    False\n",
       "28       unfurled_paintings_60_61      unfurled_paintings_60_61     True\n",
       "29        themes_variations_59_60        stripe_paintings_61_62    False\n",
       "..                            ...                           ...      ...\n",
       "136         early_paintings_34_53          veil_paintings_58_59    False\n",
       "137       themes_variations_59_60          veil_paintings_58_59    False\n",
       "138        stripe_paintings_61_62        stripe_paintings_61_62     True\n",
       "139       themes_variations_59_60       themes_variations_59_60     True\n",
       "140        stripe_paintings_61_62        stripe_paintings_61_62     True\n",
       "141          veil_paintings_58_59          veil_paintings_58_59     True\n",
       "142        stripe_paintings_61_62        stripe_paintings_61_62     True\n",
       "143      unfurled_paintings_60_61      unfurled_paintings_60_61     True\n",
       "144       themes_variations_59_60       themes_variations_59_60     True\n",
       "145         early_paintings_34_53         early_paintings_34_53     True\n",
       "146          veil_paintings_58_59  abstract_expressionist_55_57    False\n",
       "147        stripe_paintings_61_62        stripe_paintings_61_62     True\n",
       "148         early_paintings_34_53       themes_variations_59_60    False\n",
       "149       themes_variations_59_60       themes_variations_59_60     True\n",
       "150          veil_paintings_58_59          veil_paintings_58_59     True\n",
       "151        stripe_paintings_61_62        stripe_paintings_61_62     True\n",
       "152          veil_paintings_58_59        stripe_paintings_61_62    False\n",
       "153        stripe_paintings_61_62        stripe_paintings_61_62     True\n",
       "154       themes_variations_59_60         early_paintings_34_53    False\n",
       "155          veil_paintings_58_59          veil_paintings_58_59     True\n",
       "156       themes_variations_59_60  abstract_expressionist_55_57    False\n",
       "157         early_paintings_34_53       themes_variations_59_60    False\n",
       "158       themes_variations_59_60      unfurled_paintings_60_61    False\n",
       "159      unfurled_paintings_60_61      unfurled_paintings_60_61     True\n",
       "160      unfurled_paintings_60_61      unfurled_paintings_60_61     True\n",
       "161        stripe_paintings_61_62        stripe_paintings_61_62     True\n",
       "162        stripe_paintings_61_62        stripe_paintings_61_62     True\n",
       "163          veil_paintings_58_59       themes_variations_59_60    False\n",
       "164        stripe_paintings_61_62        stripe_paintings_61_62     True\n",
       "165          veil_paintings_58_59          veil_paintings_58_59     True\n",
       "\n",
       "[166 rows x 3 columns]"
      ]
     },
     "execution_count": 43,
     "metadata": {},
     "output_type": "execute_result"
    }
   ],
   "source": [
    "actuals = target_test.tolist()\n",
    "data_test = pd.DataFrame(data = {\"actual\": actuals, \"predicted\": predicted})\n",
    "data_test[\"compare\"] = data_test[\"actual\"] == data_test[\"predicted\"]\n",
    "data_test"
   ]
  },
  {
   "cell_type": "code",
   "execution_count": 44,
   "metadata": {
    "collapsed": true
   },
   "outputs": [],
   "source": [
    "# Save the model to a file\n",
    "filename = \"MorrisRandomForestModel.pkl\"\n",
    "pickle.dump(rf, open(filename, \"wb\"))"
   ]
  },
  {
   "cell_type": "code",
   "execution_count": 45,
   "metadata": {
    "collapsed": true
   },
   "outputs": [],
   "source": [
    "# load the model from disk\n",
    "loaded_rf = pickle.load(open(filename, \"rb\"))"
   ]
  },
  {
   "cell_type": "code",
   "execution_count": 46,
   "metadata": {},
   "outputs": [
    {
     "data": {
      "text/plain": [
       "0.6204819277108434"
      ]
     },
     "execution_count": 46,
     "metadata": {},
     "output_type": "execute_result"
    }
   ],
   "source": [
    "loaded_rf.score(features_test, target_test)"
   ]
  },
  {
   "cell_type": "code",
   "execution_count": null,
   "metadata": {
    "collapsed": true
   },
   "outputs": [],
   "source": []
  }
 ],
 "metadata": {
  "kernelspec": {
   "display_name": "Python 3",
   "language": "python",
   "name": "python3"
  },
  "language_info": {
   "codemirror_mode": {
    "name": "ipython",
    "version": 3
   },
   "file_extension": ".py",
   "mimetype": "text/x-python",
   "name": "python",
   "nbconvert_exporter": "python",
   "pygments_lexer": "ipython3",
   "version": "3.6.5"
  }
 },
 "nbformat": 4,
 "nbformat_minor": 2
}
